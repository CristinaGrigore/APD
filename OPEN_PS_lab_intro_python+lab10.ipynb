{
  "nbformat": 4,
  "nbformat_minor": 0,
  "metadata": {
    "colab": {
      "provenance": [],
      "include_colab_link": true
    },
    "kernelspec": {
      "name": "python3",
      "display_name": "Python 3"
    }
  },
  "cells": [
    {
      "cell_type": "markdown",
      "metadata": {
        "id": "view-in-github",
        "colab_type": "text"
      },
      "source": [
        "<a href=\"https://colab.research.google.com/github/CristinaGrigore/APD/blob/master/OPEN_PS_lab_intro_python%2Blab10.ipynb\" target=\"_parent\"><img src=\"https://colab.research.google.com/assets/colab-badge.svg\" alt=\"Open In Colab\"/></a>"
      ]
    },
    {
      "cell_type": "markdown",
      "metadata": {
        "id": "V3OfzuvEo5nO"
      },
      "source": [
        "# Laborator 10: Filtre FIR trece bandă și trece-sus"
      ]
    },
    {
      "cell_type": "markdown",
      "metadata": {
        "id": "dTFbXEk1pCwj"
      },
      "source": [
        "## Introducere in Python si Numpy [2p]"
      ]
    },
    {
      "cell_type": "markdown",
      "metadata": {
        "id": "bw_7lnhg_ooQ"
      },
      "source": [
        "În acest laborator vom avea în vedere 2 aspecte. Vom încerca să ne familiarizăm cu un nou limbaj de programare - Python și în același timp vom învăța câteva concepte noi de procesarea semnalelor.\n",
        "\n",
        "De ce să învățăm încă un limbaj de programare? \n",
        "* Python este un limbaj care a devenit foarte popular în ultimii ani și oferă numeroase biblioteci și framework-uri utile procesării semnalelor. \n",
        "* Spre deosebire de Matlab este free, iar spre deosebire de Octave are un ecosistem de biblioteci mai bine întreținut.\n",
        "\n",
        "\n",
        "În acest laborator nu ne vom concentra pe învățarea limbajului, doar vom arăta câteva exemple pentru a îl avea în vedere în viitor.\n"
      ]
    },
    {
      "cell_type": "markdown",
      "metadata": {
        "id": "l2zX2mimCAFl"
      },
      "source": [
        "În acest laborator ne vom folosi de Google Colab, care ne oferă un notebook Python în care putem rula cod fără a ne mai preocupa de setup. Foarte important este și faptul că în acest mediu avem access la GPU din cloud."
      ]
    },
    {
      "cell_type": "markdown",
      "metadata": {
        "id": "s46FmjCNCki6"
      },
      "source": [
        "Pentru a rula o secvență de cod, precum următoarea trebuie să apăsăm în dreptul parantezelor pătrate din dreptul codului  [ ]. "
      ]
    },
    {
      "cell_type": "code",
      "metadata": {
        "id": "FxsiBc-cDJg6"
      },
      "source": [
        "a = 1"
      ],
      "execution_count": null,
      "outputs": []
    },
    {
      "cell_type": "markdown",
      "metadata": {
        "id": "JNOK0T0TDSUC"
      },
      "source": [
        "Rulați căsuța de mai jos de mai multe ori."
      ]
    },
    {
      "cell_type": "code",
      "metadata": {
        "id": "VRH-h0vVDNNB"
      },
      "source": [
        "a = a + 1\n",
        "print(a)"
      ],
      "execution_count": null,
      "outputs": []
    },
    {
      "cell_type": "markdown",
      "metadata": {
        "id": "nbMroDjiqUR8"
      },
      "source": [
        "Tot ce rulăm într-un notebook va rămâne în memorie pană când vom curăța explicit (la fel ca în terminalul octave / Matlab). Resetăm notebook-ul din *Runtime / Restart runtime*."
      ]
    },
    {
      "cell_type": "markdown",
      "metadata": {
        "id": "FUeklT3ADdWp"
      },
      "source": [
        "Pentru procesarea semnalelor ne vom folosi de biblioteca *numpy*. Aceasta ne va ajuta să aplicăm o mulțime de operații matematice vectoriale, precum suntem obișnuiți din Octave. Putem defini elementele pe care le folosim cel mai des precum vectorii și matricele folosindu-ne de numpy."
      ]
    },
    {
      "cell_type": "code",
      "metadata": {
        "id": "aZBNGSYlEF4C"
      },
      "source": [
        "# limbajul Python poate defini liste precum\n",
        "a = [1,2,3,4,5]\n",
        "print(a)\n",
        "\n",
        "#Acestea sunt generale și pot contine diverse tipuri de date\n",
        "a = [1, 'a', 3.14]\n",
        "print(a)\n",
        "\n",
        "import numpy\n",
        "# Pentru a beneficia de performanță și de operațiile matematice din $numpy$, vom încerca să folosim mereu numpy arrays\n",
        "v = numpy.array([1,2,3,4,5])\n",
        "print(v)"
      ],
      "execution_count": null,
      "outputs": []
    },
    {
      "cell_type": "code",
      "metadata": {
        "id": "nJ76HzyVES2R"
      },
      "source": [
        "import numpy as np # se obisnuieste sa se prescurteze denumirea\n",
        "# putem defini o matrice ca numpy array\n",
        "M = np.array([[1,2,3],[4,5,6]])"
      ],
      "execution_count": null,
      "outputs": []
    },
    {
      "cell_type": "code",
      "metadata": {
        "id": "bMU6_pr5Eerk"
      },
      "source": [
        "print(f'Afișăm un vector')\n",
        "print(v)\n",
        "print(f'Afișăm o matrice')\n",
        "print(M)"
      ],
      "execution_count": null,
      "outputs": []
    },
    {
      "cell_type": "markdown",
      "metadata": {
        "id": "_Hl3J6SaE4ky"
      },
      "source": [
        "Putem să definim array-uri de orice dimensiune cu functiile *numpy.ones* sau *numpy.zeros*"
      ]
    },
    {
      "cell_type": "code",
      "metadata": {
        "id": "Yxzpju3DE1kx"
      },
      "source": [
        "x = np.ones((1,10)) # vector de dimensiune 1x10\n",
        "\n",
        "# pentru a afla dimensiunea unui array folosim functia shape\n",
        "print(x.shape)\n",
        "print(np.shape(x))\n",
        "\n",
        "y = np.zeros((10)) # echivalent cu un vector de dimensiune 1x10\n",
        "print(y.shape)\n",
        "\n",
        "z = 2 * x + 3 * y\n",
        "print(z)\n"
      ],
      "execution_count": null,
      "outputs": []
    },
    {
      "cell_type": "code",
      "metadata": {
        "id": "WNYDUvJnF3N7"
      },
      "source": [
        "M = np.ones((10,10)) # matrice de dimensiune 10x10\n",
        "print(M)\n",
        "print(M.shape)\n",
        "\n"
      ],
      "execution_count": null,
      "outputs": []
    },
    {
      "cell_type": "markdown",
      "metadata": {
        "id": "pgzN-1A3GxHE"
      },
      "source": [
        "Mai sus am înmulțit un scalar cu un vector: `2 * x`. Să încercăm să înmulțim element cu element 2 vectori de aceeasi mărime: x și z. \n",
        "\n"
      ]
    },
    {
      "cell_type": "code",
      "metadata": {
        "id": "5FZxEvo8HREZ"
      },
      "source": [
        "q = x * z\n",
        "print(q)"
      ],
      "execution_count": null,
      "outputs": []
    },
    {
      "cell_type": "markdown",
      "metadata": {
        "id": "vYEvbIJgHcGr"
      },
      "source": [
        "\n",
        "In mod default operatorul `*` va face înmulțire element cu element (similar cu `.*` din octave ). \n",
        "\n",
        "*Atenție*: Dacă vrem să folosim operația de înmulțire de matrici *nu* trebuie sa folosim operatorul `*`.\n"
      ]
    },
    {
      "cell_type": "code",
      "metadata": {
        "id": "CRGSpYViHb7C"
      },
      "source": [
        "M1 = np.ones((4,4))\n",
        "M2 = np.ones((4,4))\n",
        "\n",
        "elemnt_wise_M = M1 * M2\n",
        "print(elemnt_wise_M)\n"
      ],
      "execution_count": null,
      "outputs": []
    },
    {
      "cell_type": "markdown",
      "metadata": {
        "id": "SH3RTxbjJLd8"
      },
      "source": [
        "Pentru înmulțire de matrici trebuie să folosim funcția `numpy.matmul`."
      ]
    },
    {
      "cell_type": "code",
      "metadata": {
        "id": "L41Dj4mDJKiA"
      },
      "source": [
        "matrix_mult_M = np.matmul(M1,M2)\n",
        "print(matrix_mult_M)"
      ],
      "execution_count": null,
      "outputs": []
    },
    {
      "cell_type": "code",
      "metadata": {
        "id": "KEHyBiAC3v40"
      },
      "source": [
        "a = np.arange(10) \n",
        "print(a) # [0 1 2 3 4 5 6 7 8 9]\n",
        "\n",
        "# putem selecta o parte dintr-un array folosindu-ne de 'slice':  array[stanga:dreapta]\n",
        "b = a[2:5] # [2 3 4]\n",
        "print(b)\n",
        "\n",
        "# putem lasa liber unul din capete. \n",
        "# [:dreapta] selecteaza toate elementele pana la capatul din dreapta\n",
        "# [stanga:] selecteaza toate elementele incepand din capatul din stanga pana la sfarsit\n",
        "\n",
        "print(a[:2]) # [0 1]\n",
        "print(a[5:]) # [5 6 7 8 9]\n",
        "\n",
        "# putem selecta elemente sarind elemente. [stanga:dreapta:pas]\n",
        "print(a[1:8:2]) # [1 3 5 7]\n",
        "print(a[::2]) # de la inceput pana la sfarsit cu pasul 2: [0 2 4 6 8]\n",
        "\n"
      ],
      "execution_count": null,
      "outputs": []
    },
    {
      "cell_type": "markdown",
      "metadata": {
        "id": "ueVhVCCW6nK4"
      },
      "source": [
        "In numpy se foloseste convenția de row-major, deci este indicat să se parcurgă întâi dimensiunea cea mai din dreapta (în cazul matricelor, dimensiunea rândurilor). De asemenea, mereu când este posibil, este indicat să se folosească operații vectoriale."
      ]
    },
    {
      "cell_type": "code",
      "metadata": {
        "id": "ir_iv7l15S32"
      },
      "source": [
        "import time\n",
        "\n",
        "N = 1000\n",
        "A = np.random.rand(N,N)\n",
        "B = np.random.rand(N,N)\n",
        "C = np.zeros((N,N))\n",
        "\n",
        "time1 = time.time()\n",
        "for i in range(N):\n",
        "  for j in range(N):\n",
        "    C[i,j] = A[i,j] * B[i,j]\n",
        "\n",
        "time_row = time.time() - time1\n",
        "\n",
        "\n",
        "time2 = time.time()\n",
        "for j in range(N):\n",
        "  for i in range(N):\n",
        "        C[i,j] = A[i,j] * B[i,j]\n",
        "time_column = time.time() - time2\n",
        "\n",
        "time3 = time.time()\n",
        "C = A * B;\n",
        "time_matrix_operation = time.time() - time3\n",
        "\n",
        "print(f'Timp row-major: {time_row} s')\n",
        "print(f'Timp column-major: {time_column} s')\n",
        "print(f'Timp matrix operation: {time_matrix_operation} s')"
      ],
      "execution_count": null,
      "outputs": []
    },
    {
      "cell_type": "markdown",
      "metadata": {
        "id": "u7eaNRLkkMDP"
      },
      "source": [
        "## Exercițiul 1. [8p]\n",
        "\n",
        "Pentru acest exercițiu vom utiliza metoda proiectării cu fereastră pentru a crea filtre FIR trece-bandă și trece-sus. Precum am văzut la curs, putem folosi același principiu pentru a crea filtre trece-jos, trece-bandă sau trece-sus. Tot ce trebuie să facem este să înmulțim coeficienții filtrelor (adică secvența $h_{ideal}$) cu valorile unei sinusoide de o anumită frecvență (centrul frecvențelor pentru filtrul trece-bandă).\n",
        "\n",
        "Pentru a crea un filtru trece-bandă cu frecvența centrală $f_B$ ar trebui să procedați în felul următor:\n",
        "  - Generați filtrul în timp $h_{ideal}$ precum în laboratorul 9 (creați filtrul în frecvență, treceți în domeniul timp, înmulțiți cu o fereastră precum Blackman sau alta)\n",
        "  - Înmulțiți $h_{ideal}$ element cu element cu secvența $\\cos(\\frac{2\\pi f_B n}{f_s})$, unde  $f_B$ este frecvența din centrul benzii dorite, iar $f_s$ este frecvența de eșantionare.\n",
        "\n",
        "\n",
        "Câteva cazuri particulare:\n",
        "  - $f_B = \\frac{f_s}{4}$, în acest caz secvența cosinus devine [0, -1, 0, 1, 0, -1, 0, ...]. Acesta este un tip de filtru eficient trece-bandă centrat în frecvența $f_s / 4$.\n",
        "  - $f_B = \\frac{f_s}{2}$, în acest caz secvența cosinus devine [1, -1, 1, -1, ...] și obținem un filtru trece-sus. \n",
        "\n",
        "Acum că știți toate acestea (sperăm că ați reținut și de la curs), aveți de făcut următoarele:\n",
        "  - Generați o secvență de filtru ideal trece-jos $H_{ideal}$ având N = 256 elemente, reprezentând spectrul de frecvență al unui filtru trece-jos. Folosiți o frecvență de cut-off de fs/16. Adică totul înainte de fs/16 trebuie să treacă, pe când totul mai sus trebuie sa fie oprit (folosiți un dreptunghi care se oprește la fs/16). Observați că trebuie să generați un spectru simetric pentru a obține o secvență reală la următorul pas.\n",
        "  - Acum aplicați inversa DFT(în practică inversa FFT) pentru a obține secvența corespunzătoare în domeniul timp $h_{ideal}$.\n",
        "  - Trunchiați secvența $h_{ideal}$ prin selectarea a doar L=65 de eșantioane din centru(32 din stânga maximului funcției sinc, maximul funcției, și 32 de eșantioane din dreapta). Aceasta corespunde multiplicării secvenței  $h_{ideal}$ cu o fereastră rectangulară centrată în punctul maxim al funcției sinc. Plotați secvența.\n",
        "  - Aplicați DFT($fft$) pe secvența trunchiată înmulțită cu fereastra rectangulară (care conține doar 1) și plotați spectrul. Rețineți: este important aici, precum și la primul plot pentru filtru trece-jos ideal, să notăm axa frecvențelor (axa x) ca o funcție de Fs, adică de la 0 la 1.\n",
        "  - Folosiți aceeași secvență trunchiată ca mai sus, dar înmulțiți-o cu o fereastră precum $Blackman$. Aplicați din nou $fft$ și plotați spectrul.\n",
        "  - Din această secvență puteți obține o secvență corespunzătoare unui filtru trece-bandă cu $f_B = \\frac{f_s}{4}$.\n",
        "  - Obțineți o secvență corespunzătoare unui filtru trece-sus cu $f_B = \\frac{f_s}{2}$.\n",
        "  - Generați trei sinusoide cu frecvențe diferite (ex: $0.1 \\cdot f_s$, $0.25 \\cdot f_s$, $0.4 \\cdot f_s$, unde $f_s = 64000$ și $N = 64$) și filtrați-le (folosind funcția *numpy.convolve*) cu  filtrele trece-sus și trece-bandă obținute mai sus. Plotați atât input-ul cât și output-ul în același plot folosind *numpy.stem* pentru a observa efectele filtrelor.\n"
      ]
    },
    {
      "cell_type": "code",
      "metadata": {
        "id": "9d3WYoOvkSfw"
      },
      "source": [
        "# Generam un filtru trece-jos ideal in domeniul frecvență\n",
        "N = 256\n",
        "kc = N // 16\n",
        "H_ideal = np.zeros(N)\n",
        "\n",
        "H_ideal[:kc] = 1\n",
        "H_ideal[-kc+2:] = 1\n",
        "\n",
        "fx = np.linspace(0,1,N)"
      ],
      "execution_count": null,
      "outputs": []
    },
    {
      "cell_type": "code",
      "metadata": {
        "id": "KSLp7Cbek6Gw"
      },
      "source": [
        "# pentru a realiza ploturi în Python vom folosi biblioteca matplotlib\n",
        "import matplotlib.pyplot as plt\n",
        "plt.plot(fx,H_ideal)\n",
        "plt.xlabel('Frequency (x Fs)');\n",
        "plt.title('Ideal low-pass filter');"
      ],
      "execution_count": null,
      "outputs": []
    },
    {
      "cell_type": "code",
      "metadata": {
        "id": "XlvEeAzamqYq"
      },
      "source": [
        "from numpy.fft import fft, ifft, fftshift, ifftshift\n",
        "# Obținem filtrul în domeniul timp prin aplicarea inversa transformatei fourier \n",
        "h_ideal = ifftshift(ifft(H_ideal))\n",
        "h_ideal = np.real(h_ideal)\n",
        "\n",
        "plt.plot(h_ideal);\n",
        "plt.xlabel('Index');\n",
        "plt.title('Time-domain sequence of ideal low-pass filter');"
      ],
      "execution_count": null,
      "outputs": []
    },
    {
      "cell_type": "code",
      "metadata": {
        "id": "PWta7u5AnqG_"
      },
      "source": [
        "# Generate windowed time-domain sequence\n",
        "# window = rectangle\n",
        "L = 65\n",
        "w = np.ones(L)\n",
        "b = int(N / 2 - L / 2)\n",
        "e = int(N / 2 + L / 2)\n",
        "h_rectangle = h_ideal[b:e] * w\n",
        "\n",
        "plt.plot(h_rectangle);\n",
        "plt.xlabel('Sample index');\n",
        "plt.title('Windowed filter sequence h(k) using rect(n)');"
      ],
      "execution_count": null,
      "outputs": []
    },
    {
      "cell_type": "code",
      "metadata": {
        "id": "ACOAqRHjo3s0"
      },
      "source": [
        "# Obtain frequency-domain of windowed sequence\n",
        "H_rectangle = fft(h_rectangle);\n",
        "fx = np.linspace(0,1,L);\n",
        "plt.plot(fx, np.abs(H_rectangle));\n",
        "plt.xlabel('Frequency (x Fs)');\n",
        "plt.title('FFT of the time-domain sequence with w(n)=rect(n)');\n"
      ],
      "execution_count": null,
      "outputs": []
    },
    {
      "cell_type": "code",
      "metadata": {
        "id": "D20iFYU9qbYB"
      },
      "source": [
        "# Generate windowed time-domain sequence\n",
        "# window = blackman\n",
        "L = 65;\n",
        "w = np.blackman(L)\n",
        "\n",
        "b = int(N / 2 - L / 2)\n",
        "e = int(N / 2 + L / 2)\n",
        "h_lowpass = h_ideal[b:e] * w\n",
        "\n",
        "plt.plot(h_lowpass);\n",
        "plt.xlabel('Sample index');\n",
        "plt.title('Windowed filter sequence h(k) using blackman(n)');\n",
        "\n",
        "#  Obtain frequency-domain of windowed sequence\n",
        "H_lowpass = fft(h_lowpass);\n",
        "fx = np.linspace(0,1,L);\n",
        "\n",
        "plt.figure()\n",
        "plt.plot(fx, np.abs(H_lowpass));\n",
        "plt.xlabel('Frequency (x Fs)');\n",
        "plt.title('FFT of the time-domain sequence with w(n)=blackman(n)');"
      ],
      "execution_count": null,
      "outputs": []
    },
    {
      "cell_type": "markdown",
      "metadata": {
        "id": "P4_U6i7SrQ8c"
      },
      "source": [
        "Până acum am creat un filtru trece-jos în domeniul timp. Să ne definim un semnal de intrare de tip sinusoidal și să îl filtrăm cu acest filtru trece-jos. Semnalul de intrare va avea $E = 64$ de eșantioane și va corespunde unui semnal de frecvență $f = 3000$ Hz eșantionat la o frecvență de $f_s = 64000$ Hz.\n",
        "\n"
      ]
    },
    {
      "cell_type": "code",
      "metadata": {
        "id": "bCmifyYr_O3T"
      },
      "source": [
        "#  Filter a sinewave using the low-pass filter\n",
        "fs = 64000\n",
        "E = 64\n",
        "x = np.arange(E)\n",
        "f = 3000\n",
        "A = 1\n",
        "\n",
        "# xn = ... TODO\n",
        "# # filtram semnalul xn cu filtrul h_lowpass\n",
        "# yn = ... TODO\n",
        "\n",
        "\n",
        "plt.stem(x, xn, 'b','bo','b', label='semnal de intrare');\n",
        "plt.stem(np.arange(128), yn,'r','ro','r',label='semnal filtrat');\n",
        "plt.xlabel('Sample index');\n",
        "plt.legend()\n",
        "plt.title('low-pass filtering using hw');"
      ],
      "execution_count": null,
      "outputs": []
    },
    {
      "cell_type": "markdown",
      "metadata": {
        "id": "GLJrFaGWW07_"
      },
      "source": [
        "In pasul următor trebuie să obținem un filtru trece-bandă din filtrul trece-jos pe care deja îl avem. Precum am spus mai sus obținem un filtru trece-bandă dacă înmulțim element cu element filtrul trece-jos în domeniul timp cu un semnal cosinus: $\\cos(\\frac{2\\pi f_B n}{f_s})$ de frecvență $f_B$. \n",
        "Folosim cazul particular $f_B = \\frac{f_s} {4}$.\n"
      ]
    },
    {
      "cell_type": "code",
      "metadata": {
        "id": "Clg3F34B_jC5"
      },
      "source": [
        "# Obtinem un filtru trece-banda dintr-un filtru trece-jos  \n",
        "# Inmultim filtrul trece-jos cu: cos(pi/2 * n) = [0, -1, 0, 1, 0, -1, ...]\n",
        "\n",
        "h_bandpass = np.copy(h_lowpass);\n",
        "# h_bandpass = ... TODO\n",
        "\n",
        "# Trecem filtrul in domeniul frecventa\n",
        "H_bandpass = #TODO\n",
        "\n",
        "# Afisam filtrul in domeniul frecventa\n",
        "fx = np.linspace(0,1,L);\n",
        "plt.plot(fx, abs(H_bandpass));\n",
        "plt.xlabel('Frequency (x Fs)');\n",
        "plt.title('FFT of the time-domain band-pass sequence');"
      ],
      "execution_count": null,
      "outputs": []
    },
    {
      "cell_type": "markdown",
      "metadata": {
        "id": "yMYTr8sQYF6k"
      },
      "source": [
        "Pentru a verifica frecvențele atenuate de filtru, vom defini 3 frecvențe de intrare, le vom filtra pe fiecare cu filtrul trece-banda și vom vedea cum este afectat semnalul de intrare, în funcție de frecvență."
      ]
    },
    {
      "cell_type": "code",
      "metadata": {
        "id": "Eu485QY89leW"
      },
      "source": [
        "# Filtram sinusoidele de intrare folosind filtre trece-banda\n",
        "\n",
        "# parametrii filtrelor\n",
        "fs = 64000\n",
        "N = 64\n",
        "x = np.arange(N)\n",
        "f1 = 3000\n",
        "f2 = 15000\n",
        "f3 = 30000\n",
        "A = 1\n",
        "\n",
        "xn1 = # TODO\n",
        "xn2 = # TODO\n",
        "xn3 = # TODO\n",
        "\n",
        "# aplicam convolutie intre semnalele de intrare xn si filtrul hwb\n",
        "yn1 = # TODO\n",
        "yn2 = # TODO\n",
        "yn3 = # TODO"
      ],
      "execution_count": null,
      "outputs": []
    },
    {
      "cell_type": "code",
      "metadata": {
        "id": "U-5WV4BNi35b"
      },
      "source": [
        "#@title Plotam semnalele filtrate\n",
        "\n",
        "# plt.subplot(2,1,1);\n",
        "fig=plt.figure(figsize=(12,3), dpi= 100, facecolor='w', edgecolor='k')\n",
        "\n",
        "# pentru claritate afisam separat fiecare semnal de intrare\n",
        "fig.suptitle('Input sinusoids of different frequencies');\n",
        "plt.subplot(1,3,1);\n",
        "plt.stem(x, xn1, 'r','ro','r',label='3kHz'); \n",
        "plt.xlabel('Sample index');\n",
        "plt.legend()\n",
        "\n",
        "plt.subplot(1,3,2);\n",
        "plt.stem(x, xn2, 'g','go','g',label='15kHz');\n",
        "plt.xlabel('Sample index');\n",
        "plt.legend()\n",
        "\n",
        "plt.subplot(1,3,3);\n",
        "plt.stem(x, xn3, 'b','bo','b',label='30kHz');\n",
        "plt.xlabel('Sample index');\n",
        "plt.legend()\n",
        "\n",
        "\n",
        "plt.figure()\n",
        "plt.stem(x, xn1, 'r','ro','r',label='3kHz'); \n",
        "plt.stem(x, xn2, 'g','go','g',label='15kHz');\n",
        "plt.stem(x, xn3, 'b','bo','b',label='30kHz');\n",
        "plt.legend()\n",
        "plt.title('All input signals')\n",
        "\n",
        "plt.figure()\n",
        "plt.stem(x, yn1[:N], 'r','ro','r',label='3 kHz');\n",
        "#hold on;\n",
        "plt.stem(x, yn2[:N], 'g','go','g',label='15 kHz');\n",
        "plt.stem(x, yn3[:N], 'b','bo','b',label='30 kHz');\n",
        "plt.xlabel('Sample index');\n",
        "# plt.legend('yn 3kHz', 'yn 15kHz', 'yn 30kHz');\n",
        "plt.title('All signals after BAND PASS filtering');"
      ],
      "execution_count": null,
      "outputs": []
    },
    {
      "cell_type": "markdown",
      "metadata": {
        "id": "qOUKTrqOYXc8"
      },
      "source": [
        "Similar ca mai sus, vom obține un filtru trece sus dacă înmulțim filtrul trece-jos cu un semnal cosinus de frecvență maxima, adică $f_B = \\frac{f_s}{2}$. Adică $\\cos(\\frac{2\\pi f_B n}{f_s})$ = $\\cos(\\frac{2\\pi f_s n}{2 f_s}) = \\cos \\pi n$."
      ]
    },
    {
      "cell_type": "code",
      "metadata": {
        "id": "7jua4W5xDJIU"
      },
      "source": [
        "# Obtinem un filtru trece-sus dintr-un filtru trece-jos  \n",
        "# Inmultim filtrul trece-jos cu: cos(pi * n) = [1, -1, 1, -1, ...]\n",
        "\n",
        "h_highpass = np.copy(h_lowpass);\n",
        "h_highpass = # TODO\n",
        "\n",
        "# Trecem filtrul in domeniul frecventa\n",
        "H_highpass = # TODO\n",
        "\n",
        "# Afisam filtrul in domeniul frecventa\n",
        "fx = np.linspace(0,1,L);\n",
        "plt.plot(fx, abs(H_highpass));\n",
        "plt.xlabel('Frequency (x Fs)');\n",
        "plt.title('FFT of the time-domain high-pass sequence');"
      ],
      "execution_count": null,
      "outputs": []
    },
    {
      "cell_type": "code",
      "metadata": {
        "id": "t43LTEvKDVEc"
      },
      "source": [
        "# Filtram sinusoidele de intrare folosind filtre trece-sus\n",
        "\n",
        "# parametrii filtrelor\n",
        "fs = 64000\n",
        "E = 64\n",
        "x = np.arange(E)\n",
        "f1 = 3000\n",
        "f2 = 15000\n",
        "f3 = 30000\n",
        "A = 1\n",
        "\n",
        "xn1 = #TODO\n",
        "xn2 = #TODO\n",
        "xn3 = #TODO\n",
        "\n",
        "# aplicam convolutie intre semnalele de intrare xn si filtrul hwb\n",
        "yn1 = #TODO\n",
        "yn2 = #TODO\n",
        "yn3 = #TODO"
      ],
      "execution_count": null,
      "outputs": []
    },
    {
      "cell_type": "markdown",
      "source": [
        "Plotam semnalele filtrate:"
      ],
      "metadata": {
        "id": "zTw06voF2CIA"
      }
    },
    {
      "cell_type": "code",
      "metadata": {
        "id": "Bm5b_SeEoFSx"
      },
      "source": [
        " \n",
        "# plt.subplot(2,1,1);\n",
        "fig=plt.figure(figsize=(12,3), dpi= 100, facecolor='w', edgecolor='k')\n",
        "\n",
        "# pentru claritate afisam separat fiecare semnal de intrare\n",
        "fig.suptitle('Input sinusoids of different frequencies');\n",
        "plt.subplot(1,3,1);\n",
        "plt.stem(x, xn1, 'r','ro','r',label='3kHz'); \n",
        "plt.xlabel('Sample index');\n",
        "plt.legend()\n",
        "\n",
        "plt.subplot(1,3,2);\n",
        "plt.stem(x, xn2, 'g','go','g',label='15kHz');\n",
        "plt.xlabel('Sample index');\n",
        "plt.legend()\n",
        "\n",
        "plt.subplot(1,3,3);\n",
        "plt.stem(x, xn3, 'b','bo','b',label='30kHz');\n",
        "plt.xlabel('Sample index');\n",
        "plt.legend()\n",
        "\n",
        "\n",
        "plt.figure()\n",
        "plt.stem(x, xn1, 'r','ro','r',label='3kHz'); \n",
        "plt.stem(x, xn2, 'g','go','g',label='15kHz');\n",
        "plt.stem(x, xn3, 'b','bo','b',label='30kHz');\n",
        "plt.legend()\n",
        "plt.title('All input signals')\n",
        "\n",
        "plt.figure()\n",
        "plt.stem(x, yn1[:N], 'r','ro','r',label='3 kHz');\n",
        "#hold on;\n",
        "plt.stem(x, yn2[:N], 'g','go','g',label='15 kHz');\n",
        "plt.stem(x, yn3[:N], 'b','bo','b',label='30 kHz');\n",
        "plt.xlabel('Sample index');\n",
        "# plt.legend('yn 3kHz', 'yn 15kHz', 'yn 30kHz');\n",
        "plt.title('All signals after HIGH PASS filtering');"
      ],
      "execution_count": null,
      "outputs": []
    },
    {
      "cell_type": "markdown",
      "source": [
        "## Exercițiul 2. [Bonus]"
      ],
      "metadata": {
        "id": "buaFjNBC_9-x"
      }
    },
    {
      "cell_type": "markdown",
      "source": [
        "1. Încercați să implementați exercițiul 3 din laboratorul 9 în Python.\n",
        "Pentru a afla coeficienții unui filtru FIR vă puteți folosi de funcția firwin din scipy.signal."
      ],
      "metadata": {
        "id": "zw2haXnmAPIv"
      }
    },
    {
      "cell_type": "code",
      "source": [
        "import scipy.signal as signal\n",
        "import matplotlib.pyplot as plt\n",
        "import numpy as np\n",
        "fig=plt.figure(figsize=(12,3), dpi= 100, facecolor='w', edgecolor='k')\n",
        "\n",
        "fs = 64000;\n",
        "N = 64;\n",
        "b = 0 # folositi signal.firwin pentru a obtine coeficientii (b) ai unui filtru trece-jos:\n",
        "      # https://docs.scipy.org/doc/scipy/reference/generated/scipy.signal.firwin.html#scipy.signal.firwin\n",
        "x1f = signal.lfilter(b, 1, x1) # x1 sinusoida de intrare, ex. f = 3 kHz\n",
        "\n",
        "# Pentru a afișa răspunsul în frecvență puteți folosi funcția freqz:\n",
        "# https://docs.scipy.org/doc/scipy/reference/generated/scipy.signal.freqz.html"
      ],
      "metadata": {
        "id": "H0kLiHr6IV6t"
      },
      "execution_count": null,
      "outputs": []
    },
    {
      "cell_type": "markdown",
      "source": [
        "2. Pentru a proiecta un filtru IIR puteți folosi funcția butter din scipy.signal. La fel ca la subpunctul de mai sus, generați trei sinusoide și filtrați-le cu filtre de tip IIR."
      ],
      "metadata": {
        "id": "VS_Kf6QQChQa"
      }
    },
    {
      "cell_type": "code",
      "source": [
        "import scipy.signal as signal\n",
        "import matplotlib.pyplot as plt\n",
        "import numpy as np\n",
        "fig=plt.figure(figsize=(12,3), dpi= 100, facecolor='w', edgecolor='k')\n",
        "\n",
        "fs = 64000;\n",
        "N = 64;\n",
        "b, a = 0 # folositi signal.butter pentru a obtine coeficientii (b si a) ai unui filtru trece-jos:\n",
        "      # https://docs.scipy.org/doc/scipy/reference/generated/scipy.signal.butter.html\n",
        "x1f = signal.lfilter(b, a, x1) # x1 sinusoida de intrare, ex. f = 3 kHz\n",
        "\n",
        "# Pentru a afișa răspunsul în frecvență puteți folosi funcția freqz:\n",
        "# https://docs.scipy.org/doc/scipy/reference/generated/scipy.signal.freqz.html"
      ],
      "metadata": {
        "id": "tafM__enDakn"
      },
      "execution_count": null,
      "outputs": []
    }
  ]
}